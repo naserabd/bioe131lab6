{
 "cells": [
  {
   "cell_type": "markdown",
   "metadata": {},
   "source": [
    "## Aligning the Reads to the Human Genome ##  \n",
    "#### What will you use for the database? Input reads?  ####\n",
    "We will use the provided human genome database and the provided illumina reads.  \n",
    "#### If you use the --un unaligned.fastq option, what will unaligned.fastq contain?  ####\n",
    "unaligned.fastq would contain all the reads that couldn't be aligned to the S.oneidensis reference genome."
   ]
  },
  {
   "cell_type": "code",
   "execution_count": 1,
   "metadata": {},
   "outputs": [
    {
     "name": "stdout",
     "output_type": "stream",
     "text": [
      "1124714 reads; of these:\n",
      "  1124714 (100.00%) were unpaired; of these:\n",
      "    1028379 (91.43%) aligned 0 times\n",
      "    87274 (7.76%) aligned exactly 1 time\n",
      "    9061 (0.81%) aligned >1 times\n",
      "8.57% overall alignment rate\n",
      "\n"
     ]
    }
   ],
   "source": [
    "import subprocess\n",
    "\n",
    "command = \"bowtie2 -p 4 --very-fast --no-unal -x /data/hg19/hg19 -U /data/lab6/illumina_reads.fastq -S output.sam --un unaligned.fastq\"\n",
    "\n",
    "#run above command in terminal and print output\n",
    "test = subprocess.Popen(command.split(), stdout=subprocess.PIPE, stderr=subprocess.PIPE)\n",
    "output = test.communicate()[1].decode(\"utf-8\")\n",
    "print(output)"
   ]
  },
  {
   "cell_type": "markdown",
   "metadata": {},
   "source": [
    "#### What percentage of your sequencing library came from contaminating human DNA? ####  \n",
    "8.57% of our sequencing library came from contaminating human DNA."
   ]
  },
  {
   "cell_type": "markdown",
   "metadata": {},
   "source": [
    "## Aligning the Reads to the S.oneidensis Genome ##    \n",
    "#### If you use the --un unaligned.fastq option, what will unaligned.fastq contain?  ####\n",
    "unaligned.fastq would contain all the reads that couldn't be aligned to the S.oneidensis reference genome."
   ]
  },
  {
   "cell_type": "code",
   "execution_count": 2,
   "metadata": {},
   "outputs": [
    {
     "name": "stdout",
     "output_type": "stream",
     "text": [
      "1124714 reads; of these:\n",
      "  1124714 (100.00%) were unpaired; of these:\n",
      "    395895 (35.20%) aligned 0 times\n",
      "    687571 (61.13%) aligned exactly 1 time\n",
      "    41248 (3.67%) aligned >1 times\n",
      "64.80% overall alignment rate\n",
      "\n"
     ]
    }
   ],
   "source": [
    "import subprocess\n",
    "\n",
    "command = \"bowtie2 -p 4 --very-fast --no-unal -x /data/lab6/shewanella_oneidensis_mr-1 -U /data/lab6/illumina_reads.fastq -S output.sam --un unaligned.fastq\"\n",
    "\n",
    "#run above command in terminal and print output\n",
    "test = subprocess.Popen(command.split(), stdout=subprocess.PIPE, stderr=subprocess.PIPE)\n",
    "output = test.communicate()[1].decode(\"utf-8\")\n",
    "print(output)"
   ]
  },
  {
   "cell_type": "markdown",
   "metadata": {},
   "source": [
    "#### What percentage of your filtered library didn't align to the reference genome? ####\n",
    "35.20% of our sequencing library did not align to the S.oneidensis reference genome.\n",
    "#### If you use --very-sensitive instead of --very-fast, does this percentage increase or decrease? ####"
   ]
  },
  {
   "cell_type": "code",
   "execution_count": 3,
   "metadata": {},
   "outputs": [
    {
     "name": "stdout",
     "output_type": "stream",
     "text": [
      "1124714 reads; of these:\n",
      "  1124714 (100.00%) were unpaired; of these:\n",
      "    394447 (35.07%) aligned 0 times\n",
      "    688180 (61.19%) aligned exactly 1 time\n",
      "    42087 (3.74%) aligned >1 times\n",
      "64.93% overall alignment rate\n",
      "\n"
     ]
    }
   ],
   "source": [
    "import subprocess\n",
    "\n",
    "command = \"bowtie2 -p 4 --very-sensitive --no-unal -x /data/lab6/shewanella_oneidensis_mr-1 -U /data/lab6/illumina_reads.fastq -S output.sam --un unaligned.fastq\"\n",
    "\n",
    "#run above command in terminal and print output\n",
    "test = subprocess.Popen(command.split(), stdout=subprocess.PIPE, stderr=subprocess.PIPE)\n",
    "output = test.communicate()[1].decode(\"utf-8\")\n",
    "print(output)"
   ]
  },
  {
   "cell_type": "markdown",
   "metadata": {},
   "source": [
    "Using --very-sensitive instead of --very-fast very slightly reduces the misalignment percentage."
   ]
  },
  {
   "cell_type": "markdown",
   "metadata": {},
   "source": [
    "## Generating a Coverage Plot ##    \n",
    "\n",
    "#### Converting SAM to BAM ####  \n",
    "Command in terminal:  \n",
    ">samtools view -S -b Lab6/output.sam > Lab6/output_converted.bam\n",
    "#### Sorting ####  \n",
    "Command in terminal:  \n",
    ">samtools sort -o Lab6/output_sorted.bam Lab6/output_converted.bam\n",
    "#### Indexing ####  \n",
    "Command in terminal:  \n",
    ">samtools index Lab6/output_sorted.bam\n",
    "#### Generating Depth of Coverage ####  \n",
    "Command in terminal:  \n",
    ">samtools depth -a Lab6/output_sorted.bam > Lab6/pileup.tab"
   ]
  },
  {
   "cell_type": "markdown",
   "metadata": {},
   "source": [
    "## Depth of coverage vs. position scatter plot"
   ]
  },
  {
   "cell_type": "code",
   "execution_count": 20,
   "metadata": {
    "scrolled": false
   },
   "outputs": [
    {
     "data": {
      "text/plain": [
       "<matplotlib.collections.PathCollection at 0x7f77d19a1a58>"
      ]
     },
     "execution_count": 20,
     "metadata": {},
     "output_type": "execute_result"
    },
    {
     "data": {
      "image/png": "[encoded data removed]",
      "text/plain": [
       "<Figure size 1080x432 with 1 Axes>"
      ]
     },
     "metadata": {
      "needs_background": "light"
     },
     "output_type": "display_data"
    }
   ],
   "source": [
    "import matplotlib.pyplot as plt\n",
    "\n",
    "# Extract coverage\n",
    "fl = open(\"pileup.tab\", \"r\").read()\n",
    "coverage = []\n",
    "for l in fl.split(\"\\n\")[:-1]:\n",
    "    data = l.split(\"\\t\")\n",
    "    coverage.append(int(data[2]))    \n",
    "\n",
    "# plot depth of coverage vs position scatter plot\n",
    "plt.figure(figsize=(15,6))\n",
    "plt.xlabel('Position in the Genome')\n",
    "plt.ylabel('Depth of Coverage')\n",
    "plt.title(\"Depth of Coverage vs Position in Genome\")\n",
    "plt.scatter(range(len(coverage)), coverage, color = ['blue'])"
   ]
  },
  {
   "cell_type": "markdown",
   "metadata": {},
   "source": [
    "## Count vs. depth of coverage histogram graph"
   ]
  },
  {
   "cell_type": "code",
   "execution_count": 25,
   "metadata": {},
   "outputs": [
    {
     "data": {
      "text/plain": [
       "<BarContainer object of 282 artists>"
      ]
     },
     "execution_count": 25,
     "metadata": {},
     "output_type": "execute_result"
    },
    {
     "data": {
      "image/png": "[encoded data removed]",
      "text/plain": [
       "<Figure size 1080x432 with 1 Axes>"
      ]
     },
     "metadata": {
      "needs_background": "light"
     },
     "output_type": "display_data"
    }
   ],
   "source": [
    "# count depth of coverage\n",
    "count = []\n",
    "for i in range(0,max(coverage)+1):\n",
    "    count.append(coverage.count(i))\n",
    "\n",
    "# plot count vs depth of coverage\n",
    "plt.figure(figsize=(15,6))\n",
    "plt.xlabel('Depth of Coverage')\n",
    "plt.ylabel('Count')\n",
    "plt.title(\"Count vs Depth of Coverage\")\n",
    "plt.bar(range(0,len(count)), count, color = ['red'])"
   ]
  },
  {
   "cell_type": "markdown",
   "metadata": {},
   "source": [
    "##### What is the min, max, and mean coverage across all positions?"
   ]
  },
  {
   "cell_type": "code",
   "execution_count": 5,
   "metadata": {},
   "outputs": [
    {
     "name": "stdout",
     "output_type": "stream",
     "text": [
      "The min coverage is 0 , the max coverage is 281 , and the mean coverage is 37.03830306625343\n"
     ]
    }
   ],
   "source": [
    "max_coverage = max(coverage)\n",
    "min_coverage = min(coverage)\n",
    "ave_coverage = sum(coverage)/len(coverage)\n",
    "print(\"The min coverage is\", min_coverage, \", the max coverage is\", max_coverage, \", and the mean coverage is\", ave_coverage)"
   ]
  },
  {
   "cell_type": "markdown",
   "metadata": {},
   "source": [
    "## Extra Credit Task 1  \n",
    "### Aligning the Reads to Human Genome"
   ]
  },
  {
   "cell_type": "code",
   "execution_count": 26,
   "metadata": {},
   "outputs": [
    {
     "name": "stdout",
     "output_type": "stream",
     "text": [
      "1124714 reads; of these:\n",
      "  1124714 (100.00%) were unpaired; of these:\n",
      "    1028379 (91.43%) aligned 0 times\n",
      "    87274 (7.76%) aligned exactly 1 time\n",
      "    9061 (0.81%) aligned >1 times\n",
      "8.57% overall alignment rate\n",
      "\n"
     ]
    }
   ],
   "source": [
    "import subprocess\n",
    "\n",
    "# Align read to human genome\n",
    "command = \"bowtie2 -p 4 --very-fast --no-unal -x /data/hg19/hg19 -U /data/lab6/illumina_reads.fastq -S output.sam --un unaligned.fastq\"\n",
    "\n",
    "#run above command in terminal and print output\n",
    "test = subprocess.Popen(command.split(), stdout=subprocess.PIPE, stderr=subprocess.PIPE)\n",
    "output = test.communicate()[1].decode(\"utf-8\")\n",
    "print(output)"
   ]
  },
  {
   "cell_type": "markdown",
   "metadata": {},
   "source": [
    "## Generating a Coverage Plot ##    \n",
    "\n",
    "#### Converting SAM to BAM ####  \n",
    "Command in terminal:  \n",
    ">samtools view -S -b Lab6/output.sam > Lab6/output_converted.bam\n",
    "#### Sorting ####  \n",
    "Command in terminal:  \n",
    ">samtools sort -o Lab6/output_sorted.bam Lab6/output_converted.bam\n",
    "#### Indexing ####  \n",
    "Command in terminal:  \n",
    ">samtools index Lab6/output_sorted.bam\n",
    "#### Generating Depth of Coverage ####  \n",
    "Command in terminal:  \n",
    ">samtools depth -a Lab6/output_sorted.bam > Lab6/pileup.tab  \n",
    "## Plotting"
   ]
  },
  {
   "cell_type": "code",
   "execution_count": null,
   "metadata": {},
   "outputs": [],
   "source": [
    "# Extract coverage\n",
    "fl = open(\"pileup.tab\", \"r\").read()\n",
    "coverage = []\n",
    "for l in fl.split(\"\\n\")[:-1]:\n",
    "    data = l.split(\"\\t\")\n",
    "    coverage.append(int(data[2]))  \n",
    "\n",
    "# plot depth of coverage vs position scatter plot\n",
    "plt.figure(figsize=(15,6))\n",
    "plt.xlabel('Position in the Genome')\n",
    "plt.ylabel('Depth of Coverage')\n",
    "plt.title(\"Depth of Coverage vs Position in Genome\")\n",
    "plt.scatter(range(len(coverage)), coverage, color = ['blue'])\n",
    "\n",
    "# count depth of coverage\n",
    "count = []\n",
    "for i in range(0,max(coverage)+1):\n",
    "    count.append(coverage.count(i))\n",
    "\n",
    "# plot count vs depth of coverage\n",
    "plt.figure(figsize=(15,6))\n",
    "plt.xlabel('Depth of Coverage')\n",
    "plt.ylabel('Count')\n",
    "plt.title(\"Count vs Depth of Coverage\")\n",
    "plt.bar(range(0,len(count)), count, color = ['red'])"
   ]
  },
  {
   "cell_type": "code",
   "execution_count": null,
   "metadata": {},
   "outputs": [],
   "source": []
  }
 ],
 "metadata": {
  "kernelspec": {
   "display_name": "Python 3",
   "language": "python",
   "name": "python3"
  },
  "language_info": {
   "codemirror_mode": {
    "name": "ipython",
    "version": 3
   },
   "file_extension": ".py",
   "mimetype": "text/x-python",
   "name": "python",
   "nbconvert_exporter": "python",
   "pygments_lexer": "ipython3",
   "version": "3.6.6"
  }
 },
 "nbformat": 4,
 "nbformat_minor": 2
}
