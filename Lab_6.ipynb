{
 "cells": [
  {
   "cell_type": "markdown",
   "metadata": {},
   "source": [
    "## Aligning the Reads to the Human Genome ##  \n",
    "#### What will you use for the database? Input reads?  ####\n",
    "We will use the provided human genome database and the provided illumina reads.  \n",
    "#### If you use the --un unaligned.fastq option, what will unaligned.fastq contain?  ####\n",
    "unaligned.fastq would contain all the reads that couldn't be aligned to the S.oneidensis reference genome."
   ]
  },
  {
   "cell_type": "code",
   "execution_count": 41,
   "metadata": {},
   "outputs": [
    {
     "name": "stdout",
     "output_type": "stream",
     "text": [
      "1124714 reads; of these:\n",
      "  1124714 (100.00%) were unpaired; of these:\n",
      "    1028379 (91.43%) aligned 0 times\n",
      "    87274 (7.76%) aligned exactly 1 time\n",
      "    9061 (0.81%) aligned >1 times\n",
      "8.57% overall alignment rate\n",
      "\n"
     ]
    }
   ],
   "source": [
    "import subprocess\n",
    "\n",
    "command = \"bowtie2 -p 4 --very-fast --no-unal -x /data/hg19/hg19 -U /data/lab6/illumina_reads.fastq -S output.sam --un unaligned.fastq\"\n",
    "\n",
    "#run above command in terminal and print output\n",
    "test = subprocess.Popen(command.split(), stdout=subprocess.PIPE, stderr=subprocess.PIPE)\n",
    "output = test.communicate()[1].decode(\"utf-8\")\n",
    "print(output)"
   ]
  },
  {
   "cell_type": "markdown",
   "metadata": {},
   "source": [
    "#### What percentage of your sequencing library came from contaminating human DNA? ####  \n",
    "8.57% of our sequencing library came from contaminating human DNA."
   ]
  },
  {
   "cell_type": "markdown",
   "metadata": {},
   "source": [
    "## Aligning the Reads to the S.oneidensis Genome ##    \n",
    "#### If you use the --un unaligned.fastq option, what will unaligned.fastq contain?  ####\n",
    "unaligned.fastq would contain all the reads that couldn't be aligned to the S.oneidensis reference genome."
   ]
  },
  {
   "cell_type": "code",
   "execution_count": 44,
   "metadata": {},
   "outputs": [
    {
     "name": "stdout",
     "output_type": "stream",
     "text": [
      "1124714 reads; of these:\n",
      "  1124714 (100.00%) were unpaired; of these:\n",
      "    395895 (35.20%) aligned 0 times\n",
      "    687571 (61.13%) aligned exactly 1 time\n",
      "    41248 (3.67%) aligned >1 times\n",
      "64.80% overall alignment rate\n",
      "\n"
     ]
    }
   ],
   "source": [
    "import subprocess\n",
    "\n",
    "command = \"bowtie2 -p 4 --very-fast --no-unal -x /data/lab6/shewanella_oneidensis_mr-1 -U /data/lab6/illumina_reads.fastq -S output.sam --un unaligned.fastq\"\n",
    "\n",
    "#run above command in terminal and print output\n",
    "test = subprocess.Popen(command.split(), stdout=subprocess.PIPE, stderr=subprocess.PIPE)\n",
    "output = test.communicate()[1].decode(\"utf-8\")\n",
    "print(output)"
   ]
  },
  {
   "cell_type": "markdown",
   "metadata": {},
   "source": [
    "#### What percentage of your filtered library didn't align to the reference genome? ####\n",
    "35.20% of our sequencing library did not align to the S.oneidensis reference genome.\n",
    "#### If you use --very-sensitive instead of --very-fast, does this percentage increase or decrease? ####"
   ]
  },
  {
   "cell_type": "code",
   "execution_count": 50,
   "metadata": {},
   "outputs": [
    {
     "name": "stdout",
     "output_type": "stream",
     "text": [
      "1124714 reads; of these:\n",
      "  1124714 (100.00%) were unpaired; of these:\n",
      "    394447 (35.07%) aligned 0 times\n",
      "    688180 (61.19%) aligned exactly 1 time\n",
      "    42087 (3.74%) aligned >1 times\n",
      "64.93% overall alignment rate\n",
      "\n"
     ]
    }
   ],
   "source": [
    "import subprocess\n",
    "\n",
    "command = \"bowtie2 -p 4 --very-sensitive --no-unal -x /data/lab6/shewanella_oneidensis_mr-1 -U /data/lab6/illumina_reads.fastq -S output.sam --un unaligned.fastq\"\n",
    "\n",
    "#run above command in terminal and print output\n",
    "test = subprocess.Popen(command.split(), stdout=subprocess.PIPE, stderr=subprocess.PIPE)\n",
    "output = test.communicate()[1].decode(\"utf-8\")\n",
    "print(output)"
   ]
  },
  {
   "cell_type": "markdown",
   "metadata": {},
   "source": [
    "Using --very-sensitive instead of --very-fast very slightly reduces the misalignment percentage."
   ]
  },
  {
   "cell_type": "markdown",
   "metadata": {},
   "source": [
    "## Generating a Coverage Plot ##    \n",
    "\n",
    "#### Converting SAM to BAM ####  \n",
    "Command in terminal:  \n",
    ">samtools view -S -b Lab6/output.sam > Lab6/output_converted.bam\n",
    "#### Sorting ####  \n",
    "Command in terminal:  \n",
    ">samtools sort -o Lab6/output_sorted.bam Lab6/output_converted.bam\n",
    "#### Indexing ####  \n",
    "Command in terminal:  \n",
    ">samtools index Lab6/output_sorted.bam\n",
    "#### Generating Depth of Coverage ####  \n",
    "Command in terminal:  \n",
    ">samtools depth -a Lab6/output_sorted.bam > Lab6/pileup.tab"
   ]
  },
  {
   "cell_type": "code",
   "execution_count": 21,
   "metadata": {},
   "outputs": [
    {
     "data": {
      "text/plain": [
       "Text(0, 0.5, 'Word Count')"
      ]
     },
     "execution_count": 21,
     "metadata": {},
     "output_type": "execute_result"
    },
    {
     "data": {
      "image/png": "[encoded data removed]",
      "text/plain": [
       "<Figure size 1080x432 with 1 Axes>"
      ]
     },
     "metadata": {
      "needs_background": "light"
     },
     "output_type": "display_data"
    }
   ],
   "source": [
    "import matplotlib.pyplot as plt\n",
    "\n",
    "fl = open(\"pileup.tab\", \"r\").read()\n",
    "coverage = []\n",
    "for l in fl.split(\"\\n\")[:-1]:\n",
    "    data = l.split(\"\\t\")\n",
    "    coverage.append(float(data[2]))\n",
    "#print(coverage[8000:9000])\n",
    "\n",
    "plt.figure(figsize=(15,6))\n",
    "plt.bar(coverage[::100000],range(0,len(coverage),100000),color = ['blue'])\n",
    "plt.xlabel('Word')\n",
    "plt.ylabel('Word Count')"
   ]
  },
  {
   "cell_type": "code",
   "execution_count": null,
   "metadata": {},
   "outputs": [],
   "source": []
  }
 ],
 "metadata": {
  "kernelspec": {
   "display_name": "Python 3",
   "language": "python",
   "name": "python3"
  },
  "language_info": {
   "codemirror_mode": {
    "name": "ipython",
    "version": 3
   },
   "file_extension": ".py",
   "mimetype": "text/x-python",
   "name": "python",
   "nbconvert_exporter": "python",
   "pygments_lexer": "ipython3",
   "version": "3.6.6"
  }
 },
 "nbformat": 4,
 "nbformat_minor": 2
}
